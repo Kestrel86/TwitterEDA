{
 "cells": [
  {
   "cell_type": "code",
   "execution_count": 2,
   "metadata": {},
   "outputs": [],
   "source": [
    "import numpy as np\n",
    "import matplotlib.pyplot as plt\n",
    "import pandas as pd\n",
    "import seaborn as sns\n",
    "import plotly.express as px\n",
    "\n",
    "# from sklearn.model_selection import train_test_split\n",
    "# from sklearn.linear_model import LinearRegression\n",
    "# from sklearn.metrics import mean_absolute_error\n",
    "# from sklearn.preprocessing import StandardScaler\n",
    "# from sklearn.decomposition import PCA\n",
    "# from sklearn.feature_selection import RFE\n",
    "# from sklearn.linear_model import LinearRegression\n",
    "# from sklearn.tree import DecisionTreeRegressor\n",
    "# from sklearn.ensemble import RandomForestRegressor, GradientBoostingRegressor\n",
    "# from sklearn.svm import SVR\n",
    "# from sklearn.model_selection import cross_val_score\n",
    "# from sklearn.metrics import mean_squared_error\n",
    "# from sklearn.metrics import mean_absolute_error, r2_score\n",
    "# from sklearn.model_selection import GridSearchCV"
   ]
  },
  {
   "cell_type": "code",
   "execution_count": 3,
   "metadata": {},
   "outputs": [],
   "source": [
    "df = pd.read_csv(\"tweets-engagement-metrics.csv\")"
   ]
  },
  {
   "cell_type": "code",
   "execution_count": 4,
   "metadata": {},
   "outputs": [
    {
     "data": {
      "text/plain": [
       "(102062, 20)"
      ]
     },
     "execution_count": 4,
     "metadata": {},
     "output_type": "execute_result"
    }
   ],
   "source": [
    "df.shape"
   ]
  },
  {
   "cell_type": "code",
   "execution_count": 5,
   "metadata": {},
   "outputs": [
    {
     "data": {
      "text/plain": [
       "Index(['Unnamed: 0', 'UserID', 'Gender', 'LocationID', 'City', 'State',\n",
       "       'StateCode', 'Country', 'TweetID', 'Hour', 'Day', 'Weekday',\n",
       "       'IsReshare', 'Reach', 'RetweetCount', 'Likes', 'Klout', 'Sentiment',\n",
       "       'Lang', 'text'],\n",
       "      dtype='object')"
      ]
     },
     "execution_count": 5,
     "metadata": {},
     "output_type": "execute_result"
    }
   ],
   "source": [
    "df.columns"
   ]
  },
  {
   "cell_type": "markdown",
   "metadata": {},
   "source": [
    "Data Cleaning"
   ]
  },
  {
   "cell_type": "code",
   "execution_count": 6,
   "metadata": {},
   "outputs": [],
   "source": [
    "# Removing the Unnamed: 0 column from the data frame\n",
    "df = df.loc[:, ~df.columns.str.contains('^Unnamed')]"
   ]
  },
  {
   "cell_type": "code",
   "execution_count": 7,
   "metadata": {},
   "outputs": [
    {
     "data": {
      "text/html": [
       "<div>\n",
       "<style scoped>\n",
       "    .dataframe tbody tr th:only-of-type {\n",
       "        vertical-align: middle;\n",
       "    }\n",
       "\n",
       "    .dataframe tbody tr th {\n",
       "        vertical-align: top;\n",
       "    }\n",
       "\n",
       "    .dataframe thead th {\n",
       "        text-align: right;\n",
       "    }\n",
       "</style>\n",
       "<table border=\"1\" class=\"dataframe\">\n",
       "  <thead>\n",
       "    <tr style=\"text-align: right;\">\n",
       "      <th></th>\n",
       "      <th>UserID</th>\n",
       "      <th>Gender</th>\n",
       "      <th>LocationID</th>\n",
       "      <th>City</th>\n",
       "      <th>State</th>\n",
       "      <th>StateCode</th>\n",
       "      <th>Country</th>\n",
       "      <th>TweetID</th>\n",
       "      <th>Hour</th>\n",
       "      <th>Day</th>\n",
       "      <th>Weekday</th>\n",
       "      <th>IsReshare</th>\n",
       "      <th>Reach</th>\n",
       "      <th>RetweetCount</th>\n",
       "      <th>Likes</th>\n",
       "      <th>Klout</th>\n",
       "      <th>Sentiment</th>\n",
       "      <th>Lang</th>\n",
       "      <th>text</th>\n",
       "    </tr>\n",
       "  </thead>\n",
       "  <tbody>\n",
       "    <tr>\n",
       "      <th>0</th>\n",
       "      <td>tw-1267804344</td>\n",
       "      <td>Unknown</td>\n",
       "      <td>1.0</td>\n",
       "      <td>Elbasan</td>\n",
       "      <td>Elbasan</td>\n",
       "      <td>AL</td>\n",
       "      <td>Albania</td>\n",
       "      <td>tw-698155297102295041</td>\n",
       "      <td>7</td>\n",
       "      <td>12</td>\n",
       "      <td>Friday</td>\n",
       "      <td>True</td>\n",
       "      <td>339.0</td>\n",
       "      <td>127.0</td>\n",
       "      <td>0.0</td>\n",
       "      <td>44.0</td>\n",
       "      <td>0.0</td>\n",
       "      <td>en</td>\n",
       "      <td>\"RT @AdrianRusso82: Our Innovation Lab is offi...</td>\n",
       "    </tr>\n",
       "    <tr>\n",
       "      <th>1</th>\n",
       "      <td>tw-27229880</td>\n",
       "      <td>Male</td>\n",
       "      <td>2.0</td>\n",
       "      <td>Tirana</td>\n",
       "      <td>Tirane</td>\n",
       "      <td>AL</td>\n",
       "      <td>Albania</td>\n",
       "      <td>tw-685159757209059329</td>\n",
       "      <td>11</td>\n",
       "      <td>7</td>\n",
       "      <td>Thursday</td>\n",
       "      <td>False</td>\n",
       "      <td>87.0</td>\n",
       "      <td>0.0</td>\n",
       "      <td>0.0</td>\n",
       "      <td>22.0</td>\n",
       "      <td>0.0</td>\n",
       "      <td>en</td>\n",
       "      <td>Now Open  AWS Asia Pacific (Seoul) Region via ...</td>\n",
       "    </tr>\n",
       "    <tr>\n",
       "      <th>2</th>\n",
       "      <td>tw-27229880</td>\n",
       "      <td>Male</td>\n",
       "      <td>2.0</td>\n",
       "      <td>Tirana</td>\n",
       "      <td>Tirane</td>\n",
       "      <td>AL</td>\n",
       "      <td>Albania</td>\n",
       "      <td>tw-686907710311378944</td>\n",
       "      <td>6</td>\n",
       "      <td>12</td>\n",
       "      <td>Tuesday</td>\n",
       "      <td>False</td>\n",
       "      <td>87.0</td>\n",
       "      <td>0.0</td>\n",
       "      <td>0.0</td>\n",
       "      <td>22.0</td>\n",
       "      <td>0.0</td>\n",
       "      <td>en</td>\n",
       "      <td>A Beginner's Guide to Scaling to 11 Million+ U...</td>\n",
       "    </tr>\n",
       "    <tr>\n",
       "      <th>3</th>\n",
       "      <td>tw-27229880</td>\n",
       "      <td>Male</td>\n",
       "      <td>2.0</td>\n",
       "      <td>Tirana</td>\n",
       "      <td>Tirane</td>\n",
       "      <td>AL</td>\n",
       "      <td>Albania</td>\n",
       "      <td>tw-686968158050201600</td>\n",
       "      <td>10</td>\n",
       "      <td>12</td>\n",
       "      <td>Tuesday</td>\n",
       "      <td>False</td>\n",
       "      <td>87.0</td>\n",
       "      <td>0.0</td>\n",
       "      <td>0.0</td>\n",
       "      <td>22.0</td>\n",
       "      <td>0.0</td>\n",
       "      <td>en</td>\n",
       "      <td>Bridging AWS and Azure environments via VPN vi...</td>\n",
       "    </tr>\n",
       "    <tr>\n",
       "      <th>4</th>\n",
       "      <td>tw-27229880</td>\n",
       "      <td>Male</td>\n",
       "      <td>2.0</td>\n",
       "      <td>Tirana</td>\n",
       "      <td>Tirane</td>\n",
       "      <td>AL</td>\n",
       "      <td>Albania</td>\n",
       "      <td>tw-690210449674092545</td>\n",
       "      <td>9</td>\n",
       "      <td>21</td>\n",
       "      <td>Thursday</td>\n",
       "      <td>False</td>\n",
       "      <td>85.0</td>\n",
       "      <td>0.0</td>\n",
       "      <td>0.0</td>\n",
       "      <td>21.0</td>\n",
       "      <td>0.0</td>\n",
       "      <td>en</td>\n",
       "      <td>ELK on AWS ElasticSearch Service + ElasticBean...</td>\n",
       "    </tr>\n",
       "  </tbody>\n",
       "</table>\n",
       "</div>"
      ],
      "text/plain": [
       "          UserID   Gender  LocationID     City    State StateCode  Country  \\\n",
       "0  tw-1267804344  Unknown         1.0  Elbasan  Elbasan        AL  Albania   \n",
       "1    tw-27229880     Male         2.0   Tirana   Tirane        AL  Albania   \n",
       "2    tw-27229880     Male         2.0   Tirana   Tirane        AL  Albania   \n",
       "3    tw-27229880     Male         2.0   Tirana   Tirane        AL  Albania   \n",
       "4    tw-27229880     Male         2.0   Tirana   Tirane        AL  Albania   \n",
       "\n",
       "                 TweetID  Hour  Day   Weekday  IsReshare  Reach  RetweetCount  \\\n",
       "0  tw-698155297102295041     7   12    Friday       True  339.0         127.0   \n",
       "1  tw-685159757209059329    11    7  Thursday      False   87.0           0.0   \n",
       "2  tw-686907710311378944     6   12   Tuesday      False   87.0           0.0   \n",
       "3  tw-686968158050201600    10   12   Tuesday      False   87.0           0.0   \n",
       "4  tw-690210449674092545     9   21  Thursday      False   85.0           0.0   \n",
       "\n",
       "   Likes  Klout  Sentiment Lang  \\\n",
       "0    0.0   44.0        0.0   en   \n",
       "1    0.0   22.0        0.0   en   \n",
       "2    0.0   22.0        0.0   en   \n",
       "3    0.0   22.0        0.0   en   \n",
       "4    0.0   21.0        0.0   en   \n",
       "\n",
       "                                                text  \n",
       "0  \"RT @AdrianRusso82: Our Innovation Lab is offi...  \n",
       "1  Now Open  AWS Asia Pacific (Seoul) Region via ...  \n",
       "2  A Beginner's Guide to Scaling to 11 Million+ U...  \n",
       "3  Bridging AWS and Azure environments via VPN vi...  \n",
       "4  ELK on AWS ElasticSearch Service + ElasticBean...  "
      ]
     },
     "execution_count": 7,
     "metadata": {},
     "output_type": "execute_result"
    }
   ],
   "source": [
    "df.head()"
   ]
  },
  {
   "cell_type": "code",
   "execution_count": 8,
   "metadata": {},
   "outputs": [
    {
     "name": "stdout",
     "output_type": "stream",
     "text": [
      "<class 'pandas.core.frame.DataFrame'>\n",
      "RangeIndex: 102062 entries, 0 to 102061\n",
      "Data columns (total 19 columns):\n",
      " #   Column        Non-Null Count   Dtype  \n",
      "---  ------        --------------   -----  \n",
      " 0   UserID        102062 non-null  object \n",
      " 1   Gender        102062 non-null  object \n",
      " 2   LocationID    102062 non-null  float64\n",
      " 3   City          99783 non-null   object \n",
      " 4   State         100165 non-null  object \n",
      " 5   StateCode     100336 non-null  object \n",
      " 6   Country       102062 non-null  object \n",
      " 7   TweetID       102062 non-null  object \n",
      " 8   Hour          102062 non-null  int64  \n",
      " 9   Day           102062 non-null  int64  \n",
      " 10  Weekday       102062 non-null  object \n",
      " 11  IsReshare     102062 non-null  bool   \n",
      " 12  Reach         102062 non-null  float64\n",
      " 13  RetweetCount  102062 non-null  float64\n",
      " 14  Likes         102062 non-null  float64\n",
      " 15  Klout         102062 non-null  float64\n",
      " 16  Sentiment     102062 non-null  float64\n",
      " 17  Lang          102062 non-null  object \n",
      " 18  text          102062 non-null  object \n",
      "dtypes: bool(1), float64(6), int64(2), object(10)\n",
      "memory usage: 14.1+ MB\n"
     ]
    }
   ],
   "source": [
    "df.info()"
   ]
  },
  {
   "cell_type": "code",
   "execution_count": 9,
   "metadata": {},
   "outputs": [
    {
     "data": {
      "text/plain": [
       "UserID             0\n",
       "Gender             0\n",
       "LocationID         0\n",
       "City            2279\n",
       "State           1897\n",
       "StateCode       1726\n",
       "Country            0\n",
       "TweetID            0\n",
       "Hour               0\n",
       "Day                0\n",
       "Weekday            0\n",
       "IsReshare          0\n",
       "Reach              0\n",
       "RetweetCount       0\n",
       "Likes              0\n",
       "Klout              0\n",
       "Sentiment          0\n",
       "Lang               0\n",
       "text               0\n",
       "dtype: int64"
      ]
     },
     "execution_count": 9,
     "metadata": {},
     "output_type": "execute_result"
    }
   ],
   "source": [
    "df.isnull().sum()"
   ]
  },
  {
   "cell_type": "code",
   "execution_count": null,
   "metadata": {},
   "outputs": [],
   "source": []
  },
  {
   "cell_type": "markdown",
   "metadata": {},
   "source": [
    "**Data Analysis of Twitter/X Engagement**"
   ]
  },
  {
   "cell_type": "code",
   "execution_count": null,
   "metadata": {},
   "outputs": [],
   "source": []
  }
 ],
 "metadata": {
  "kernelspec": {
   "display_name": "base",
   "language": "python",
   "name": "python3"
  },
  "language_info": {
   "codemirror_mode": {
    "name": "ipython",
    "version": 3
   },
   "file_extension": ".py",
   "mimetype": "text/x-python",
   "name": "python",
   "nbconvert_exporter": "python",
   "pygments_lexer": "ipython3",
   "version": "3.11.5"
  }
 },
 "nbformat": 4,
 "nbformat_minor": 2
}
