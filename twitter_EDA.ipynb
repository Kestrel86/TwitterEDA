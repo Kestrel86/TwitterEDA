{
 "cells": [
  {
   "cell_type": "code",
   "execution_count": 1,
   "metadata": {},
   "outputs": [],
   "source": [
    "import numpy as np\n",
    "import matplotlib.pyplot as plt\n",
    "import pandas as pd\n",
    "import seaborn as sns\n",
    "import plotly.express as px\n",
    "\n",
    "from sklearn.model_selection import train_test_split\n",
    "from sklearn.linear_model import LinearRegression\n",
    "from sklearn.metrics import mean_absolute_error\n",
    "from sklearn.preprocessing import StandardScaler\n",
    "from sklearn.decomposition import PCA\n",
    "from sklearn.feature_selection import RFE\n",
    "from sklearn.linear_model import LinearRegression\n",
    "from sklearn.tree import DecisionTreeRegressor\n",
    "from sklearn.ensemble import RandomForestRegressor, GradientBoostingRegressor\n",
    "from sklearn.svm import SVR\n",
    "from sklearn.model_selection import cross_val_score\n",
    "from sklearn.metrics import mean_squared_error\n",
    "from sklearn.metrics import mean_absolute_error, r2_score\n",
    "from sklearn.model_selection import GridSearchCV"
   ]
  },
  {
   "cell_type": "code",
   "execution_count": 2,
   "metadata": {},
   "outputs": [],
   "source": [
    "df = pd.read_csv(\"tweets-engagement-metrics.csv\")"
   ]
  },
  {
   "cell_type": "code",
   "execution_count": 3,
   "metadata": {},
   "outputs": [
    {
     "data": {
      "text/plain": [
       "(102062, 20)"
      ]
     },
     "execution_count": 3,
     "metadata": {},
     "output_type": "execute_result"
    }
   ],
   "source": [
    "df.shape"
   ]
  },
  {
   "cell_type": "code",
   "execution_count": 4,
   "metadata": {},
   "outputs": [
    {
     "data": {
      "text/plain": [
       "Index(['Unnamed: 0', 'UserID', 'Gender', 'LocationID', 'City', 'State',\n",
       "       'StateCode', 'Country', 'TweetID', 'Hour', 'Day', 'Weekday',\n",
       "       'IsReshare', 'Reach', 'RetweetCount', 'Likes', 'Klout', 'Sentiment',\n",
       "       'Lang', 'text'],\n",
       "      dtype='object')"
      ]
     },
     "execution_count": 4,
     "metadata": {},
     "output_type": "execute_result"
    }
   ],
   "source": [
    "df.columns"
   ]
  },
  {
   "cell_type": "code",
   "execution_count": 5,
   "metadata": {},
   "outputs": [
    {
     "name": "stdout",
     "output_type": "stream",
     "text": [
      "<class 'pandas.core.frame.DataFrame'>\n",
      "RangeIndex: 102062 entries, 0 to 102061\n",
      "Data columns (total 20 columns):\n",
      " #   Column        Non-Null Count   Dtype  \n",
      "---  ------        --------------   -----  \n",
      " 0   Unnamed: 0    102062 non-null  int64  \n",
      " 1   UserID        102062 non-null  object \n",
      " 2   Gender        102062 non-null  object \n",
      " 3   LocationID    102062 non-null  float64\n",
      " 4   City          99783 non-null   object \n",
      " 5   State         100165 non-null  object \n",
      " 6   StateCode     100336 non-null  object \n",
      " 7   Country       102062 non-null  object \n",
      " 8   TweetID       102062 non-null  object \n",
      " 9   Hour          102062 non-null  int64  \n",
      " 10  Day           102062 non-null  int64  \n",
      " 11  Weekday       102062 non-null  object \n",
      " 12  IsReshare     102062 non-null  bool   \n",
      " 13  Reach         102062 non-null  float64\n",
      " 14  RetweetCount  102062 non-null  float64\n",
      " 15  Likes         102062 non-null  float64\n",
      " 16  Klout         102062 non-null  float64\n",
      " 17  Sentiment     102062 non-null  float64\n",
      " 18  Lang          102062 non-null  object \n",
      " 19  text          102062 non-null  object \n",
      "dtypes: bool(1), float64(6), int64(3), object(10)\n",
      "memory usage: 14.9+ MB\n"
     ]
    }
   ],
   "source": [
    "df.info()"
   ]
  },
  {
   "cell_type": "code",
   "execution_count": null,
   "metadata": {},
   "outputs": [],
   "source": []
  }
 ],
 "metadata": {
  "kernelspec": {
   "display_name": "base",
   "language": "python",
   "name": "python3"
  },
  "language_info": {
   "codemirror_mode": {
    "name": "ipython",
    "version": 3
   },
   "file_extension": ".py",
   "mimetype": "text/x-python",
   "name": "python",
   "nbconvert_exporter": "python",
   "pygments_lexer": "ipython3",
   "version": "3.11.5"
  }
 },
 "nbformat": 4,
 "nbformat_minor": 2
}
